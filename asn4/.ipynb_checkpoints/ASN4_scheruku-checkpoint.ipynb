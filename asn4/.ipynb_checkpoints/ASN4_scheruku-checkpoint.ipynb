{
 "cells": [
  {
   "cell_type": "code",
   "execution_count": 1,
   "id": "91d476d1",
   "metadata": {},
   "outputs": [],
   "source": [
    "import cv2\n",
    "import numpy as np\n",
    "from matplotlib import pyplot as plt"
   ]
  },
  {
   "cell_type": "code",
   "execution_count": 2,
   "id": "2855fc53",
   "metadata": {},
   "outputs": [
    {
     "data": {
      "text/plain": [
       "-1"
      ]
     },
     "execution_count": 2,
     "metadata": {},
     "output_type": "execute_result"
    }
   ],
   "source": [
    "# Converting the image to grayscale\n",
    "\n",
    "cv2.imshow(\"Grayscale\", cv2.imread('/Users/siddharthcherukupalli/repos/autonomous-unmanned-systems/asn4/croppedBarrel.png', 0))\n",
    "cv2.waitKey(1)\n"
   ]
  },
  {
   "cell_type": "code",
   "execution_count": 3,
   "id": "777ac301",
   "metadata": {},
   "outputs": [
    {
     "ename": "error",
     "evalue": "OpenCV(4.5.5) /Users/runner/work/opencv-python/opencv-python/opencv/modules/highgui/src/window.cpp:1000: error: (-215:Assertion failed) size.width>0 && size.height>0 in function 'imshow'\n",
     "output_type": "error",
     "traceback": [
      "\u001b[0;31m---------------------------------------------------------------------------\u001b[0m",
      "\u001b[0;31merror\u001b[0m                                     Traceback (most recent call last)",
      "\u001b[0;32m/var/folders/22/clcfs67109d9_ctql6bt1d_h0000gn/T/ipykernel_31324/1732560400.py\u001b[0m in \u001b[0;36m<module>\u001b[0;34m\u001b[0m\n\u001b[1;32m      6\u001b[0m \u001b[0;32mwhile\u001b[0m \u001b[0mvid\u001b[0m\u001b[0;34m.\u001b[0m\u001b[0misOpened\u001b[0m\u001b[0;34m(\u001b[0m\u001b[0;34m)\u001b[0m\u001b[0;34m:\u001b[0m\u001b[0;34m\u001b[0m\u001b[0;34m\u001b[0m\u001b[0m\n\u001b[1;32m      7\u001b[0m     \u001b[0mret\u001b[0m\u001b[0;34m,\u001b[0m \u001b[0mframe\u001b[0m \u001b[0;34m=\u001b[0m \u001b[0mvid\u001b[0m\u001b[0;34m.\u001b[0m\u001b[0mread\u001b[0m\u001b[0;34m(\u001b[0m\u001b[0;34m)\u001b[0m\u001b[0;34m\u001b[0m\u001b[0;34m\u001b[0m\u001b[0m\n\u001b[0;32m----> 8\u001b[0;31m     \u001b[0mcv2\u001b[0m\u001b[0;34m.\u001b[0m\u001b[0mimshow\u001b[0m\u001b[0;34m(\u001b[0m\u001b[0;34m'Frame'\u001b[0m\u001b[0;34m,\u001b[0m \u001b[0mframe\u001b[0m\u001b[0;34m)\u001b[0m\u001b[0;34m\u001b[0m\u001b[0;34m\u001b[0m\u001b[0m\n\u001b[0m\u001b[1;32m      9\u001b[0m     \u001b[0mgrayFrame\u001b[0m \u001b[0;34m=\u001b[0m \u001b[0mcv2\u001b[0m\u001b[0;34m.\u001b[0m\u001b[0mcvtColor\u001b[0m\u001b[0;34m(\u001b[0m\u001b[0mframe\u001b[0m\u001b[0;34m,\u001b[0m \u001b[0mcv2\u001b[0m\u001b[0;34m.\u001b[0m\u001b[0mCOLOR_BGR2GRAY\u001b[0m\u001b[0;34m)\u001b[0m\u001b[0;34m\u001b[0m\u001b[0;34m\u001b[0m\u001b[0m\n\u001b[1;32m     10\u001b[0m     \u001b[0mcv2\u001b[0m\u001b[0;34m.\u001b[0m\u001b[0mwaitKey\u001b[0m\u001b[0;34m(\u001b[0m\u001b[0;36m40\u001b[0m\u001b[0;34m)\u001b[0m\u001b[0;34m\u001b[0m\u001b[0;34m\u001b[0m\u001b[0m\n",
      "\u001b[0;31merror\u001b[0m: OpenCV(4.5.5) /Users/runner/work/opencv-python/opencv-python/opencv/modules/highgui/src/window.cpp:1000: error: (-215:Assertion failed) size.width>0 && size.height>0 in function 'imshow'\n"
     ]
    }
   ],
   "source": [
    "vid = cv2.VideoCapture('/Users/siddharthcherukupalli/repos/autonomous-unmanned-systems/asn4/Vid.mp4')\n",
    "img = cv2.imread('croppedBarrel.png')\n",
    "# img = cv2.resize(img, (50, 80))\n",
    "\n",
    "\n",
    "while vid.isOpened():\n",
    "    ret, frame = vid.read()\n",
    "    cv2.imshow('Frame', frame)\n",
    "    grayFrame = cv2.cvtColor(frame, cv2.COLOR_BGR2GRAY)\n",
    "    cv2.waitKey(40)"
   ]
  },
  {
   "cell_type": "code",
   "execution_count": null,
   "id": "9e8a6f99",
   "metadata": {},
   "outputs": [],
   "source": [
    "    template = cv2.imread('croppedBarrel.png', 0)\n",
    "    w, h = template.shape[::-1]\n",
    "\n",
    "    method = cv2.TM_SQDIFF\n",
    "    \n",
    "    # Apply template Matching\n",
    "    res = cv2.matchTemplate(grayFrame, template, method)\n",
    "    min_val, max_val, min_loc, max_loc = cv2.minMaxLoc(res)\n",
    "    # If the method is TM_SQDIFF or TM_SQDIFF_NORMED, take minimum\n",
    "    \n",
    "    if method in [cv2.TM_SQDIFF, cv2.TM_SQDIFF_NORMED]:\n",
    "        top_left = min_loc\n",
    "    else:\n",
    "        top_left = max_loc\n",
    "    \n",
    "    bottom_right = (top_left[0] + w, top_left[1] + h)\n",
    "    cv2.rectangle(frame, top_left, bottom_right, 255, 2)\n",
    "    cv2.imshow('Image', frame)\n",
    "    \n",
    "    cv2.waitKey(5000)\n",
    "\n",
    "    vid.release()"
   ]
  },
  {
   "cell_type": "code",
   "execution_count": null,
   "id": "80cb6a12",
   "metadata": {},
   "outputs": [],
   "source": [
    "# # Reading video\n",
    "\n",
    "# vid = cv2.VideoCapture('/Users/siddharthcherukupalli/repos/autonomous-unmanned-systems/asn4/Vid.mp4')\n",
    "\n",
    "# img = cv2.imread('croppedBarrel.png')\n",
    "\n",
    "\n",
    "# width = int(vid.get(cv2.CAP_PROP_FRAME_WIDTH))\n",
    "# height = int(vid.get(cv2.CAP_PROP_FRAME_HEIGHT))\n",
    "\n",
    "# fourcc = cv2.VideoWriter_fourcc(*'mp4v')\n",
    "\n",
    "# write = cv2.VideoWriter('/Users/siddharthcherukupalli/repos/autonomous-unmanned-systems/asn4/Vid2.mp4', fourcc, 20, (width, height))\n",
    "\n",
    "# while vid.isOpened():\n",
    "    \n",
    "#     rt, frame = vid.read()\n",
    "#     grayFrame = cv2.cvtColor(frame, cv2.COLOR_BGR2GRAY)\n",
    "#     cv2.imshow('Frame', frame)\n",
    "\n",
    "   "
   ]
  },
  {
   "cell_type": "code",
   "execution_count": null,
   "id": "88567aa9",
   "metadata": {},
   "outputs": [],
   "source": [
    "#     template = cv2.imread('croppedBarrel.png', 0)\n",
    "#     w, h = template.shape[::-1]\n",
    "\n",
    "#     method = cv2.TM_SQDIFF\n",
    "    \n",
    "#     # Apply template Matching\n",
    "#     res = cv2.matchTemplate(grayFrame, template, method)\n",
    "#     min_val, max_val, min_loc, max_loc = cv2.minMaxLoc(res)\n",
    "#     # If the method is TM_SQDIFF or TM_SQDIFF_NORMED, take minimum\n",
    "    \n",
    "#     if method in [cv2.TM_SQDIFF, cv2.TM_SQDIFF_NORMED]:\n",
    "#         top_left = min_loc\n",
    "#     else:\n",
    "#         top_left = max_loc\n",
    "    \n",
    "#     bottom_right = (top_left[0] + w, top_left[1] + h)\n",
    "#     cv2.rectangle(frame, top_left, bottom_right, 255, 2)\n",
    "#     cv2.imshow('Image', img)\n",
    "    \n",
    "#     cv2.waitKey(60)\n",
    "\n",
    "#     vid.release()"
   ]
  },
  {
   "cell_type": "code",
   "execution_count": null,
   "id": "4ddc7cef",
   "metadata": {},
   "outputs": [],
   "source": []
  }
 ],
 "metadata": {
  "kernelspec": {
   "display_name": "Python 3 (ipykernel)",
   "language": "python",
   "name": "python3"
  },
  "language_info": {
   "codemirror_mode": {
    "name": "ipython",
    "version": 3
   },
   "file_extension": ".py",
   "mimetype": "text/x-python",
   "name": "python",
   "nbconvert_exporter": "python",
   "pygments_lexer": "ipython3",
   "version": "3.9.7"
  }
 },
 "nbformat": 4,
 "nbformat_minor": 5
}
